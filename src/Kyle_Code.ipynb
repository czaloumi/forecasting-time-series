{
 "cells": [
  {
   "cell_type": "code",
   "execution_count": 1,
   "metadata": {},
   "outputs": [],
   "source": [
    "import numpy as np\n",
    "import pandas as pd\n",
    "import matplotlib.pyplot as plt"
   ]
  },
  {
   "cell_type": "code",
   "execution_count": 2,
   "metadata": {},
   "outputs": [],
   "source": [
    "from statsmodels.tsa.statespace.sarimax import SARIMAX"
   ]
  },
  {
   "cell_type": "code",
   "execution_count": 5,
   "metadata": {},
   "outputs": [],
   "source": [
    "def grid_search_sarimax(order, sorder, trend):\n",
    "    rmses = []\n",
    "    aics = []\n",
    "    for p in params['p']:\n",
    "        for d in params['d']:\n",
    "            for q in params['q']:\n",
    "                for P in params['P']:\n",
    "                    for D in params['D']:\n",
    "                        for Q in params['Q']:\n",
    "                            for s in params['s']:\n",
    "                                for t in params['trend']:\n",
    "                                    model = Sarimax(X_train, order=(p,d,q), seasonal_order=(P,D,Q,s), trend=t)\n",
    "                                    rmses.append(model.score())\n",
    "                                    aics.append(model.aic)\n",
    "    return rmses, aics"
   ]
  },
  {
   "cell_type": "code",
   "execution_count": null,
   "metadata": {},
   "outputs": [],
   "source": []
  }
 ],
 "metadata": {
  "kernelspec": {
   "display_name": "Python 3",
   "language": "python",
   "name": "python3"
  },
  "language_info": {
   "codemirror_mode": {
    "name": "ipython",
    "version": 3
   },
   "file_extension": ".py",
   "mimetype": "text/x-python",
   "name": "python",
   "nbconvert_exporter": "python",
   "pygments_lexer": "ipython3",
   "version": "3.7.7"
  }
 },
 "nbformat": 4,
 "nbformat_minor": 4
}
