{
 "cells": [
  {
   "cell_type": "code",
   "execution_count": 110,
   "metadata": {},
   "outputs": [],
   "source": [
    "import pandas as pd\n",
    "pd.pandas.set_option('display.max_columns', None)\n",
    "import numpy as np\n",
    "import matplotlib.pyplot as plt\n",
    "plt.style.use('seaborn')\n",
    "import seaborn as sns\n",
    "import datetime\n",
    "from sklearn.preprocessing import MinMaxScaler\n",
    "from sklearn.linear_model import LinearRegression\n",
    "from sklearn.metrics import mean_squared_error, r2_score\n",
    "from sklearn.ensemble import RandomForestRegressor\n",
    "from xgboost.sklearn import XGBRegressor\n",
    "\n",
    "from helper_functions import *\n",
    "import pickle"
   ]
  },
  {
   "cell_type": "markdown",
   "metadata": {},
   "source": [
    "### 1. Load Data"
   ]
  },
  {
   "cell_type": "code",
   "execution_count": 15,
   "metadata": {},
   "outputs": [
    {
     "data": {
      "text/html": [
       "<div>\n",
       "<style scoped>\n",
       "    .dataframe tbody tr th:only-of-type {\n",
       "        vertical-align: middle;\n",
       "    }\n",
       "\n",
       "    .dataframe tbody tr th {\n",
       "        vertical-align: top;\n",
       "    }\n",
       "\n",
       "    .dataframe thead th {\n",
       "        text-align: right;\n",
       "    }\n",
       "</style>\n",
       "<table border=\"1\" class=\"dataframe\">\n",
       "  <thead>\n",
       "    <tr style=\"text-align: right;\">\n",
       "      <th></th>\n",
       "      <th>date</th>\n",
       "      <th>item_sales</th>\n",
       "      <th>sales_diff</th>\n",
       "      <th>lag_1</th>\n",
       "      <th>lag_2</th>\n",
       "      <th>lag_3</th>\n",
       "      <th>lag_4</th>\n",
       "      <th>lag_5</th>\n",
       "      <th>lag_6</th>\n",
       "      <th>lag_7</th>\n",
       "      <th>lag_8</th>\n",
       "      <th>lag_9</th>\n",
       "      <th>lag_10</th>\n",
       "      <th>lag_11</th>\n",
       "      <th>lag_12</th>\n",
       "    </tr>\n",
       "  </thead>\n",
       "  <tbody>\n",
       "    <tr>\n",
       "      <th>0</th>\n",
       "      <td>2012-02-01</td>\n",
       "      <td>13982.413793</td>\n",
       "      <td>970.187987</td>\n",
       "      <td>114.967742</td>\n",
       "      <td>519.391398</td>\n",
       "      <td>-729.649462</td>\n",
       "      <td>1064.382796</td>\n",
       "      <td>383.907527</td>\n",
       "      <td>-24.096774</td>\n",
       "      <td>585.055914</td>\n",
       "      <td>725.169892</td>\n",
       "      <td>-660.369892</td>\n",
       "      <td>76.111828</td>\n",
       "      <td>-403.395161</td>\n",
       "      <td>-1341.916667</td>\n",
       "    </tr>\n",
       "    <tr>\n",
       "      <th>1</th>\n",
       "      <td>2012-03-01</td>\n",
       "      <td>14516.741935</td>\n",
       "      <td>534.328142</td>\n",
       "      <td>970.187987</td>\n",
       "      <td>114.967742</td>\n",
       "      <td>519.391398</td>\n",
       "      <td>-729.649462</td>\n",
       "      <td>1064.382796</td>\n",
       "      <td>383.907527</td>\n",
       "      <td>-24.096774</td>\n",
       "      <td>585.055914</td>\n",
       "      <td>725.169892</td>\n",
       "      <td>-660.369892</td>\n",
       "      <td>76.111828</td>\n",
       "      <td>-403.395161</td>\n",
       "    </tr>\n",
       "    <tr>\n",
       "      <th>2</th>\n",
       "      <td>2012-04-01</td>\n",
       "      <td>14366.566667</td>\n",
       "      <td>-150.175269</td>\n",
       "      <td>534.328142</td>\n",
       "      <td>970.187987</td>\n",
       "      <td>114.967742</td>\n",
       "      <td>519.391398</td>\n",
       "      <td>-729.649462</td>\n",
       "      <td>1064.382796</td>\n",
       "      <td>383.907527</td>\n",
       "      <td>-24.096774</td>\n",
       "      <td>585.055914</td>\n",
       "      <td>725.169892</td>\n",
       "      <td>-660.369892</td>\n",
       "      <td>76.111828</td>\n",
       "    </tr>\n",
       "    <tr>\n",
       "      <th>3</th>\n",
       "      <td>2012-05-01</td>\n",
       "      <td>14277.354839</td>\n",
       "      <td>-89.211828</td>\n",
       "      <td>-150.175269</td>\n",
       "      <td>534.328142</td>\n",
       "      <td>970.187987</td>\n",
       "      <td>114.967742</td>\n",
       "      <td>519.391398</td>\n",
       "      <td>-729.649462</td>\n",
       "      <td>1064.382796</td>\n",
       "      <td>383.907527</td>\n",
       "      <td>-24.096774</td>\n",
       "      <td>585.055914</td>\n",
       "      <td>725.169892</td>\n",
       "      <td>-660.369892</td>\n",
       "    </tr>\n",
       "    <tr>\n",
       "      <th>4</th>\n",
       "      <td>2012-06-01</td>\n",
       "      <td>15794.866667</td>\n",
       "      <td>1517.511828</td>\n",
       "      <td>-89.211828</td>\n",
       "      <td>-150.175269</td>\n",
       "      <td>534.328142</td>\n",
       "      <td>970.187987</td>\n",
       "      <td>114.967742</td>\n",
       "      <td>519.391398</td>\n",
       "      <td>-729.649462</td>\n",
       "      <td>1064.382796</td>\n",
       "      <td>383.907527</td>\n",
       "      <td>-24.096774</td>\n",
       "      <td>585.055914</td>\n",
       "      <td>725.169892</td>\n",
       "    </tr>\n",
       "  </tbody>\n",
       "</table>\n",
       "</div>"
      ],
      "text/plain": [
       "         date    item_sales   sales_diff       lag_1       lag_2       lag_3  \\\n",
       "0  2012-02-01  13982.413793   970.187987  114.967742  519.391398 -729.649462   \n",
       "1  2012-03-01  14516.741935   534.328142  970.187987  114.967742  519.391398   \n",
       "2  2012-04-01  14366.566667  -150.175269  534.328142  970.187987  114.967742   \n",
       "3  2012-05-01  14277.354839   -89.211828 -150.175269  534.328142  970.187987   \n",
       "4  2012-06-01  15794.866667  1517.511828  -89.211828 -150.175269  534.328142   \n",
       "\n",
       "         lag_4        lag_5        lag_6        lag_7        lag_8  \\\n",
       "0  1064.382796   383.907527   -24.096774   585.055914   725.169892   \n",
       "1  -729.649462  1064.382796   383.907527   -24.096774   585.055914   \n",
       "2   519.391398  -729.649462  1064.382796   383.907527   -24.096774   \n",
       "3   114.967742   519.391398  -729.649462  1064.382796   383.907527   \n",
       "4   970.187987   114.967742   519.391398  -729.649462  1064.382796   \n",
       "\n",
       "        lag_9      lag_10      lag_11       lag_12  \n",
       "0 -660.369892   76.111828 -403.395161 -1341.916667  \n",
       "1  725.169892 -660.369892   76.111828  -403.395161  \n",
       "2  585.055914  725.169892 -660.369892    76.111828  \n",
       "3  -24.096774  585.055914  725.169892  -660.369892  \n",
       "4  383.907527  -24.096774  585.055914   725.169892  "
      ]
     },
     "execution_count": 15,
     "metadata": {},
     "output_type": "execute_result"
    }
   ],
   "source": [
    "ca_df = pd.read_csv('../data/ca_supervised.csv')\n",
    "ca_df.head()"
   ]
  },
  {
   "cell_type": "markdown",
   "metadata": {},
   "source": [
    "### 2. Train Test Split"
   ]
  },
  {
   "cell_type": "code",
   "execution_count": 17,
   "metadata": {},
   "outputs": [
    {
     "data": {
      "text/plain": [
       "((40, 13), (12, 13))"
      ]
     },
     "execution_count": 17,
     "metadata": {},
     "output_type": "execute_result"
    }
   ],
   "source": [
    "train, test = train_test_spli(ca_df)\n",
    "train.shape, test.shape"
   ]
  },
  {
   "cell_type": "markdown",
   "metadata": {},
   "source": [
    "### 3. Scale and Split into X & y"
   ]
  },
  {
   "cell_type": "code",
   "execution_count": 19,
   "metadata": {},
   "outputs": [
    {
     "data": {
      "text/plain": [
       "((40, 12), (40,), (12, 12), (12,))"
      ]
     },
     "execution_count": 19,
     "metadata": {},
     "output_type": "execute_result"
    }
   ],
   "source": [
    "X_train, y_train, X_test, y_test, scaler_object = scale_data(train, test)\n",
    "X_train.shape, y_train.shape, X_test.shape, y_test.shape"
   ]
  },
  {
   "cell_type": "markdown",
   "metadata": {},
   "source": [
    "### 4. Linear Regression"
   ]
  },
  {
   "cell_type": "code",
   "execution_count": 95,
   "metadata": {},
   "outputs": [
    {
     "data": {
      "text/plain": [
       "((12, 1, 12), (12, 1, 1))"
      ]
     },
     "execution_count": 95,
     "metadata": {},
     "output_type": "execute_result"
    }
   ],
   "source": [
    "regr = LinearRegression()\n",
    "regr.fit(X_train, y_train)\n",
    "y_pred = regr.predict(X_test)\n",
    "\n",
    "y_pred = y_pred.reshape(y_pred.shape[0], 1, 1)\n",
    "\n",
    "x_test = X_test.reshape(X_test.shape[0], 1, X_test.shape[1])\n",
    "x_test.shape, y_pred.shape"
   ]
  },
  {
   "cell_type": "code",
   "execution_count": 96,
   "metadata": {},
   "outputs": [],
   "source": [
    "pred_test_set = []\n",
    "for index in range(0,len(y_pred)):\n",
    "    pred_test_set.append(np.concatenate([y_pred[index], x_test[index]], axis=1))"
   ]
  },
  {
   "cell_type": "code",
   "execution_count": 97,
   "metadata": {},
   "outputs": [],
   "source": [
    "pred_test_set = np.array(pred_test_set)\n",
    "pred_test_set = pred_test_set.reshape(pred_test_set.shape[0], pred_test_set.shape[2])"
   ]
  },
  {
   "cell_type": "code",
   "execution_count": 98,
   "metadata": {},
   "outputs": [
    {
     "data": {
      "text/plain": [
       "(12, 13)"
      ]
     },
     "execution_count": 98,
     "metadata": {},
     "output_type": "execute_result"
    }
   ],
   "source": [
    "pred_test_set_inverted = scaler_object.inverse_transform(pred_test_set)\n",
    "pred_test_set_inverted.shape"
   ]
  },
  {
   "cell_type": "code",
   "execution_count": 99,
   "metadata": {},
   "outputs": [
    {
     "data": {
      "text/plain": [
       "array([  261.94110354,   374.89139785,    66.26989247,   294.56105991,\n",
       "         278.14861751,   827.32258065, -1358.23548387,  -239.21612903,\n",
       "        -652.85053763,  -596.69784946,   313.03225806,    40.6655914 ,\n",
       "         721.39892473])"
      ]
     },
     "execution_count": 99,
     "metadata": {},
     "output_type": "execute_result"
    }
   ],
   "source": [
    "pred_test_set_inverted[0]"
   ]
  },
  {
   "cell_type": "code",
   "execution_count": 100,
   "metadata": {},
   "outputs": [
    {
     "data": {
      "text/html": [
       "<div>\n",
       "<style scoped>\n",
       "    .dataframe tbody tr th:only-of-type {\n",
       "        vertical-align: middle;\n",
       "    }\n",
       "\n",
       "    .dataframe tbody tr th {\n",
       "        vertical-align: top;\n",
       "    }\n",
       "\n",
       "    .dataframe thead th {\n",
       "        text-align: right;\n",
       "    }\n",
       "</style>\n",
       "<table border=\"1\" class=\"dataframe\">\n",
       "  <thead>\n",
       "    <tr style=\"text-align: right;\">\n",
       "      <th></th>\n",
       "      <th>date</th>\n",
       "      <th>item_sales</th>\n",
       "    </tr>\n",
       "  </thead>\n",
       "  <tbody>\n",
       "    <tr>\n",
       "      <th>0</th>\n",
       "      <td>2012-02-01</td>\n",
       "      <td>13982.413793</td>\n",
       "    </tr>\n",
       "    <tr>\n",
       "      <th>1</th>\n",
       "      <td>2012-03-01</td>\n",
       "      <td>14516.741935</td>\n",
       "    </tr>\n",
       "    <tr>\n",
       "      <th>2</th>\n",
       "      <td>2012-04-01</td>\n",
       "      <td>14366.566667</td>\n",
       "    </tr>\n",
       "    <tr>\n",
       "      <th>3</th>\n",
       "      <td>2012-05-01</td>\n",
       "      <td>14277.354839</td>\n",
       "    </tr>\n",
       "    <tr>\n",
       "      <th>4</th>\n",
       "      <td>2012-06-01</td>\n",
       "      <td>15794.866667</td>\n",
       "    </tr>\n",
       "  </tbody>\n",
       "</table>\n",
       "</div>"
      ],
      "text/plain": [
       "        date    item_sales\n",
       "0 2012-02-01  13982.413793\n",
       "1 2012-03-01  14516.741935\n",
       "2 2012-04-01  14366.566667\n",
       "3 2012-05-01  14277.354839\n",
       "4 2012-06-01  15794.866667"
      ]
     },
     "execution_count": 100,
     "metadata": {},
     "output_type": "execute_result"
    }
   ],
   "source": [
    "df = load_data('ca')\n",
    "df.head()"
   ]
  },
  {
   "cell_type": "code",
   "execution_count": 101,
   "metadata": {},
   "outputs": [
    {
     "data": {
      "text/html": [
       "<div>\n",
       "<style scoped>\n",
       "    .dataframe tbody tr th:only-of-type {\n",
       "        vertical-align: middle;\n",
       "    }\n",
       "\n",
       "    .dataframe tbody tr th {\n",
       "        vertical-align: top;\n",
       "    }\n",
       "\n",
       "    .dataframe thead th {\n",
       "        text-align: right;\n",
       "    }\n",
       "</style>\n",
       "<table border=\"1\" class=\"dataframe\">\n",
       "  <thead>\n",
       "    <tr style=\"text-align: right;\">\n",
       "      <th></th>\n",
       "      <th>pred_value</th>\n",
       "      <th>date</th>\n",
       "    </tr>\n",
       "  </thead>\n",
       "  <tbody>\n",
       "    <tr>\n",
       "      <th>0</th>\n",
       "      <td>16059</td>\n",
       "      <td>2015-06-01</td>\n",
       "    </tr>\n",
       "    <tr>\n",
       "      <th>1</th>\n",
       "      <td>17342</td>\n",
       "      <td>2015-07-01</td>\n",
       "    </tr>\n",
       "    <tr>\n",
       "      <th>2</th>\n",
       "      <td>17894</td>\n",
       "      <td>2015-08-01</td>\n",
       "    </tr>\n",
       "    <tr>\n",
       "      <th>3</th>\n",
       "      <td>18252</td>\n",
       "      <td>2015-09-01</td>\n",
       "    </tr>\n",
       "    <tr>\n",
       "      <th>4</th>\n",
       "      <td>17203</td>\n",
       "      <td>2015-10-01</td>\n",
       "    </tr>\n",
       "    <tr>\n",
       "      <th>5</th>\n",
       "      <td>17144</td>\n",
       "      <td>2015-11-01</td>\n",
       "    </tr>\n",
       "    <tr>\n",
       "      <th>6</th>\n",
       "      <td>15721</td>\n",
       "      <td>2015-12-01</td>\n",
       "    </tr>\n",
       "    <tr>\n",
       "      <th>7</th>\n",
       "      <td>15506</td>\n",
       "      <td>2016-01-01</td>\n",
       "    </tr>\n",
       "    <tr>\n",
       "      <th>8</th>\n",
       "      <td>16912</td>\n",
       "      <td>2016-02-01</td>\n",
       "    </tr>\n",
       "    <tr>\n",
       "      <th>9</th>\n",
       "      <td>17714</td>\n",
       "      <td>2016-03-01</td>\n",
       "    </tr>\n",
       "    <tr>\n",
       "      <th>10</th>\n",
       "      <td>17759</td>\n",
       "      <td>2016-04-01</td>\n",
       "    </tr>\n",
       "    <tr>\n",
       "      <th>11</th>\n",
       "      <td>18022</td>\n",
       "      <td>2016-05-01</td>\n",
       "    </tr>\n",
       "  </tbody>\n",
       "</table>\n",
       "</div>"
      ],
      "text/plain": [
       "    pred_value       date\n",
       "0        16059 2015-06-01\n",
       "1        17342 2015-07-01\n",
       "2        17894 2015-08-01\n",
       "3        18252 2015-09-01\n",
       "4        17203 2015-10-01\n",
       "5        17144 2015-11-01\n",
       "6        15721 2015-12-01\n",
       "7        15506 2016-01-01\n",
       "8        16912 2016-02-01\n",
       "9        17714 2016-03-01\n",
       "10       17759 2016-04-01\n",
       "11       18022 2016-05-01"
      ]
     },
     "execution_count": 101,
     "metadata": {},
     "output_type": "execute_result"
    }
   ],
   "source": [
    "results = []\n",
    "dates = list(df[-13:].date)\n",
    "item_sales = list(df[-13:].item_sales)\n",
    "\n",
    "for idx in range(0, len(pred_test_set_inverted)):\n",
    "    result_dict = {}\n",
    "    result_dict['pred_value'] = int(pred_test_set_inverted[idx][0] + item_sales[idx])\n",
    "    result_dict['date'] = dates[idx + 1]\n",
    "    results.append(result_dict)\n",
    "    \n",
    "result_df = pd.DataFrame(results)\n",
    "result_df"
   ]
  },
  {
   "cell_type": "code",
   "execution_count": 113,
   "metadata": {},
   "outputs": [
    {
     "name": "stdout",
     "output_type": "stream",
     "text": [
      "RMSE: 734.0659554863445\n",
      "R2 Score: 0.3706779436937887\n"
     ]
    },
    {
     "data": {
      "image/png": "[encoded data removed]",
      "text/plain": [
       "<Figure size 864x432 with 1 Axes>"
      ]
     },
     "metadata": {},
     "output_type": "display_data"
    }
   ],
   "source": [
    "fig, ax = plt.subplots(figsize=(12, 6))\n",
    "sns.lineplot(df.date, df.item_sales, data=df, label='Original Data', ax=ax, color=gen_random_color())\n",
    "sns.lineplot(result_df.date, result_df.pred_value, data=result_df, label='Predictions', ax=ax, color=gen_random_color());\n",
    "ax.set(xlabel = \"Date\", ylabel = \"Sales\", title = f\"Linear Regression CA Sales Forecasting Prediction\")\n",
    "plt.savefig(f'../images/ca_linear_regresion_forecast.png')\n",
    "\n",
    "model_scores = {}\n",
    "\n",
    "rmse = np.sqrt(mean_squared_error(df.item_sales[-12:], result_df.pred_value[-12:]))\n",
    "r2 = r2_score(df.item_sales[-12:], result_df.pred_value[-12:])\n",
    "model_scores['Linear Regression'] = [rmse, r2]\n",
    "\n",
    "print(f\"RMSE: {rmse}\")\n",
    "print(f\"R2 Score: {r2}\")"
   ]
  },
  {
   "cell_type": "code",
   "execution_count": null,
   "metadata": {},
   "outputs": [],
   "source": []
  }
 ],
 "metadata": {
  "kernelspec": {
   "display_name": "Python 3",
   "language": "python",
   "name": "python3"
  },
  "language_info": {
   "codemirror_mode": {
    "name": "ipython",
    "version": 3
   },
   "file_extension": ".py",
   "mimetype": "text/x-python",
   "name": "python",
   "nbconvert_exporter": "python",
   "pygments_lexer": "ipython3",
   "version": "3.8.3"
  }
 },
 "nbformat": 4,
 "nbformat_minor": 4
}
