{
 "cells": [
  {
   "cell_type": "code",
   "execution_count": 9,
   "metadata": {},
   "outputs": [],
   "source": [
    "import pandas as pd\n",
    "pd.pandas.set_option('display.max_columns', None)\n",
    "import numpy as np\n",
    "import matplotlib.pyplot as plt\n",
    "plt.style.use('seaborn')\n",
    "import seaborn as sns\n",
    "import datetime\n",
    "from sklearn.preprocessing import MinMaxScaler\n",
    "from sklearn.linear_model import LinearRegression\n",
    "from sklearn.metrics import mean_squared_error, mean_absolute_error, r2_score\n",
    "from sklearn.ensemble import RandomForestRegressor\n",
    "from xgboost.sklearn import XGBRegressor\n",
    "\n",
    "from helper_functions import *\n",
    "import pickle\n",
    "\n",
    "import keras\n",
    "from keras.layers import Dense\n",
    "from keras.models import Sequential\n",
    "from keras.optimizers import Adam \n",
    "from keras.callbacks import EarlyStopping\n",
    "from keras.utils import np_utils\n",
    "from keras.layers import LSTM\n",
    "from sklearn.model_selection import KFold, cross_val_score, train_test_split"
   ]
  },
  {
   "cell_type": "markdown",
   "metadata": {},
   "source": [
    "### 1. Load Data"
   ]
  },
  {
   "cell_type": "code",
   "execution_count": 15,
   "metadata": {},
   "outputs": [
    {
     "data": {
      "text/html": [
       "<div>\n",
       "<style scoped>\n",
       "    .dataframe tbody tr th:only-of-type {\n",
       "        vertical-align: middle;\n",
       "    }\n",
       "\n",
       "    .dataframe tbody tr th {\n",
       "        vertical-align: top;\n",
       "    }\n",
       "\n",
       "    .dataframe thead th {\n",
       "        text-align: right;\n",
       "    }\n",
       "</style>\n",
       "<table border=\"1\" class=\"dataframe\">\n",
       "  <thead>\n",
       "    <tr style=\"text-align: right;\">\n",
       "      <th></th>\n",
       "      <th>date</th>\n",
       "      <th>item_sales</th>\n",
       "      <th>sales_diff</th>\n",
       "      <th>lag_1</th>\n",
       "      <th>lag_2</th>\n",
       "      <th>lag_3</th>\n",
       "      <th>lag_4</th>\n",
       "      <th>lag_5</th>\n",
       "      <th>lag_6</th>\n",
       "      <th>lag_7</th>\n",
       "      <th>lag_8</th>\n",
       "      <th>lag_9</th>\n",
       "      <th>lag_10</th>\n",
       "      <th>lag_11</th>\n",
       "      <th>lag_12</th>\n",
       "    </tr>\n",
       "  </thead>\n",
       "  <tbody>\n",
       "    <tr>\n",
       "      <th>0</th>\n",
       "      <td>2012-02-01</td>\n",
       "      <td>13982.413793</td>\n",
       "      <td>970.187987</td>\n",
       "      <td>114.967742</td>\n",
       "      <td>519.391398</td>\n",
       "      <td>-729.649462</td>\n",
       "      <td>1064.382796</td>\n",
       "      <td>383.907527</td>\n",
       "      <td>-24.096774</td>\n",
       "      <td>585.055914</td>\n",
       "      <td>725.169892</td>\n",
       "      <td>-660.369892</td>\n",
       "      <td>76.111828</td>\n",
       "      <td>-403.395161</td>\n",
       "      <td>-1341.916667</td>\n",
       "    </tr>\n",
       "    <tr>\n",
       "      <th>1</th>\n",
       "      <td>2012-03-01</td>\n",
       "      <td>14516.741935</td>\n",
       "      <td>534.328142</td>\n",
       "      <td>970.187987</td>\n",
       "      <td>114.967742</td>\n",
       "      <td>519.391398</td>\n",
       "      <td>-729.649462</td>\n",
       "      <td>1064.382796</td>\n",
       "      <td>383.907527</td>\n",
       "      <td>-24.096774</td>\n",
       "      <td>585.055914</td>\n",
       "      <td>725.169892</td>\n",
       "      <td>-660.369892</td>\n",
       "      <td>76.111828</td>\n",
       "      <td>-403.395161</td>\n",
       "    </tr>\n",
       "    <tr>\n",
       "      <th>2</th>\n",
       "      <td>2012-04-01</td>\n",
       "      <td>14366.566667</td>\n",
       "      <td>-150.175269</td>\n",
       "      <td>534.328142</td>\n",
       "      <td>970.187987</td>\n",
       "      <td>114.967742</td>\n",
       "      <td>519.391398</td>\n",
       "      <td>-729.649462</td>\n",
       "      <td>1064.382796</td>\n",
       "      <td>383.907527</td>\n",
       "      <td>-24.096774</td>\n",
       "      <td>585.055914</td>\n",
       "      <td>725.169892</td>\n",
       "      <td>-660.369892</td>\n",
       "      <td>76.111828</td>\n",
       "    </tr>\n",
       "    <tr>\n",
       "      <th>3</th>\n",
       "      <td>2012-05-01</td>\n",
       "      <td>14277.354839</td>\n",
       "      <td>-89.211828</td>\n",
       "      <td>-150.175269</td>\n",
       "      <td>534.328142</td>\n",
       "      <td>970.187987</td>\n",
       "      <td>114.967742</td>\n",
       "      <td>519.391398</td>\n",
       "      <td>-729.649462</td>\n",
       "      <td>1064.382796</td>\n",
       "      <td>383.907527</td>\n",
       "      <td>-24.096774</td>\n",
       "      <td>585.055914</td>\n",
       "      <td>725.169892</td>\n",
       "      <td>-660.369892</td>\n",
       "    </tr>\n",
       "    <tr>\n",
       "      <th>4</th>\n",
       "      <td>2012-06-01</td>\n",
       "      <td>15794.866667</td>\n",
       "      <td>1517.511828</td>\n",
       "      <td>-89.211828</td>\n",
       "      <td>-150.175269</td>\n",
       "      <td>534.328142</td>\n",
       "      <td>970.187987</td>\n",
       "      <td>114.967742</td>\n",
       "      <td>519.391398</td>\n",
       "      <td>-729.649462</td>\n",
       "      <td>1064.382796</td>\n",
       "      <td>383.907527</td>\n",
       "      <td>-24.096774</td>\n",
       "      <td>585.055914</td>\n",
       "      <td>725.169892</td>\n",
       "    </tr>\n",
       "  </tbody>\n",
       "</table>\n",
       "</div>"
      ],
      "text/plain": [
       "         date    item_sales   sales_diff       lag_1       lag_2       lag_3  \\\n",
       "0  2012-02-01  13982.413793   970.187987  114.967742  519.391398 -729.649462   \n",
       "1  2012-03-01  14516.741935   534.328142  970.187987  114.967742  519.391398   \n",
       "2  2012-04-01  14366.566667  -150.175269  534.328142  970.187987  114.967742   \n",
       "3  2012-05-01  14277.354839   -89.211828 -150.175269  534.328142  970.187987   \n",
       "4  2012-06-01  15794.866667  1517.511828  -89.211828 -150.175269  534.328142   \n",
       "\n",
       "         lag_4        lag_5        lag_6        lag_7        lag_8  \\\n",
       "0  1064.382796   383.907527   -24.096774   585.055914   725.169892   \n",
       "1  -729.649462  1064.382796   383.907527   -24.096774   585.055914   \n",
       "2   519.391398  -729.649462  1064.382796   383.907527   -24.096774   \n",
       "3   114.967742   519.391398  -729.649462  1064.382796   383.907527   \n",
       "4   970.187987   114.967742   519.391398  -729.649462  1064.382796   \n",
       "\n",
       "        lag_9      lag_10      lag_11       lag_12  \n",
       "0 -660.369892   76.111828 -403.395161 -1341.916667  \n",
       "1  725.169892 -660.369892   76.111828  -403.395161  \n",
       "2  585.055914  725.169892 -660.369892    76.111828  \n",
       "3  -24.096774  585.055914  725.169892  -660.369892  \n",
       "4  383.907527  -24.096774  585.055914   725.169892  "
      ]
     },
     "execution_count": 15,
     "metadata": {},
     "output_type": "execute_result"
    }
   ],
   "source": [
    "ca_df = pd.read_csv('../data/ca_supervised.csv')\n",
    "ca_df.head()"
   ]
  },
  {
   "cell_type": "markdown",
   "metadata": {},
   "source": [
    "### 2. Train Test Split"
   ]
  },
  {
   "cell_type": "code",
   "execution_count": 17,
   "metadata": {},
   "outputs": [
    {
     "data": {
      "text/plain": [
       "((40, 13), (12, 13))"
      ]
     },
     "execution_count": 17,
     "metadata": {},
     "output_type": "execute_result"
    }
   ],
   "source": [
    "train, test = train_test_spli(ca_df)\n",
    "train.shape, test.shape"
   ]
  },
  {
   "cell_type": "markdown",
   "metadata": {},
   "source": [
    "### 3. Scale and Split into X & y"
   ]
  },
  {
   "cell_type": "code",
   "execution_count": 19,
   "metadata": {},
   "outputs": [
    {
     "data": {
      "text/plain": [
       "((40, 12), (40,), (12, 12), (12,))"
      ]
     },
     "execution_count": 19,
     "metadata": {},
     "output_type": "execute_result"
    }
   ],
   "source": [
    "X_train, y_train, X_test, y_test, scaler_object = scale_data(train, test)\n",
    "X_train.shape, y_train.shape, X_test.shape, y_test.shape"
   ]
  },
  {
   "cell_type": "code",
   "execution_count": 24,
   "metadata": {},
   "outputs": [
    {
     "name": "stderr",
     "output_type": "stream",
     "text": [
      "/Users/chelseazaloumis/opt/anaconda3/lib/python3.8/site-packages/pandas/plotting/_matplotlib/core.py:1192: UserWarning: FixedFormatter should only be used together with FixedLocator\n",
      "  ax.set_xticklabels(xticklabels)\n"
     ]
    },
    {
     "data": {
      "image/png": "[encoded data removed]",
      "text/plain": [
       "<Figure size 576x396 with 1 Axes>"
      ]
     },
     "metadata": {},
     "output_type": "display_data"
    }
   ],
   "source": [
    "subset = ca_df[['date', 'item_sales']].copy()\n",
    "subset.set_index('date', inplace=True)\n",
    "subset.plot();"
   ]
  },
  {
   "cell_type": "code",
   "execution_count": null,
   "metadata": {},
   "outputs": [],
   "source": []
  }
 ],
 "metadata": {
  "kernelspec": {
   "display_name": "Python 3",
   "language": "python",
   "name": "python3"
  },
  "language_info": {
   "codemirror_mode": {
    "name": "ipython",
    "version": 3
   },
   "file_extension": ".py",
   "mimetype": "text/x-python",
   "name": "python",
   "nbconvert_exporter": "python",
   "pygments_lexer": "ipython3",
   "version": "3.8.3"
  }
 },
 "nbformat": 4,
 "nbformat_minor": 4
}
